{
 "cells": [
  {
   "cell_type": "code",
   "execution_count": 1,
   "metadata": {},
   "outputs": [],
   "source": [
    "import pandas as pd\n",
    "import numpy as np\n",
    "import os\n",
    "import csv\n",
    "import networkx as nx\n",
    "from networkx.algorithms import community\n",
    "\n",
    "from node2vec import Node2Vec\n",
    "from node2vec.edges import HadamardEmbedder\n",
    "import umap\n",
    "from bqplot import (\n",
    "    LogScale, LinearScale, OrdinalColorScale, ColorAxis,\n",
    "    Axis, Scatter, Lines, CATEGORY10, Label, Figure, Tooltip\n",
    ")\n",
    "from ipywidgets import HBox, VBox, IntSlider, Play, jslink\n",
    "from ipywidgets.embed import embed_minimal_html\n",
    "from ipywidgets import interact, interactive, fixed, interact_manual\n",
    "import matplotlib.pyplot as plt\n",
    "import seaborn\n",
    "from gensim.models import KeyedVectors\n",
    "from sklearn.preprocessing import MinMaxScaler"
   ]
  },
  {
   "cell_type": "code",
   "execution_count": 2,
   "metadata": {},
   "outputs": [],
   "source": [
    "NODES_FILENAME = 'dblp_nodes.csv'\n",
    "EDGES_FILENAME = 'dblp_edges.csv'\n",
    "EMBEDDING_FILENAME = 'embedding.csv'\n",
    "UMAP_FILENAME = 'embedding_umap.csv'"
   ]
  },
  {
   "cell_type": "code",
   "execution_count": 3,
   "metadata": {},
   "outputs": [],
   "source": [
    "nodes_titles = {}\n",
    "with open(NODES_FILENAME) as f:\n",
    "    csv_reader = csv.reader(f, delimiter='|')\n",
    "    for row in csv_reader:\n",
    "        nodes_titles[int(row[1])] = row[2]"
   ]
  },
  {
   "cell_type": "code",
   "execution_count": 4,
   "metadata": {},
   "outputs": [],
   "source": [
    "G = nx.Graph()\n",
    "attrs = {}\n",
    "min_year = 2500\n",
    "max_year = 1000\n",
    "\n",
    "with open(EDGES_FILENAME) as f:\n",
    "    csv_reader = csv.reader(f, delimiter=' ')\n",
    "    for row in csv_reader:\n",
    "        e = (row[0], row[1])\n",
    "        year = int(row[2])\n",
    "        min_year = min(min_year,year)\n",
    "        max_year = max(max_year,year)\n",
    "        G.add_edge(row[0], row[1])\n",
    "        attrs[e] = {'year': year} \n",
    "        \n",
    "nx.set_edge_attributes(G, attrs)"
   ]
  },
  {
   "cell_type": "code",
   "execution_count": 5,
   "metadata": {},
   "outputs": [
    {
     "name": "stderr",
     "output_type": "stream",
     "text": [
      "Computing transition probabilities: 100%|██████████| 114/114 [00:00<00:00, 7927.69it/s]\n"
     ]
    }
   ],
   "source": [
    "# node2vec\n",
    "node2vec = Node2Vec(G, dimensions=32, walk_length=10, num_walks=100, workers=4)  # Use temp_folder for big graphs\n",
    "model = node2vec.fit(window=10, min_count=1, batch_words=4)  # Any keywords acceptable by gensim.Word2Vec can be passed, `diemnsions` and `workers` are automatically passed (from the Node2Vec constructor)\n",
    "edges_embs = HadamardEmbedder(keyed_vectors=model.wv)\n",
    "model.wv.save_word2vec_format(EMBEDDING_FILENAME)"
   ]
  },
  {
   "cell_type": "code",
   "execution_count": 6,
   "metadata": {},
   "outputs": [],
   "source": [
    "from networkx.algorithms.community.centrality import girvan_newman\n",
    "\n",
    "communities_iter = girvan_newman(G)\n",
    "communities_gn = []\n",
    "\n",
    "for community_gn in next(communities_iter):\n",
    "    communities_gn.append(community_gn)"
   ]
  },
  {
   "cell_type": "code",
   "execution_count": 7,
   "metadata": {},
   "outputs": [],
   "source": [
    "from networkx.algorithms.community.modularity_max import greedy_modularity_communities\n",
    "\n",
    "communities_gmc = greedy_modularity_communities(G)\n",
    "\n",
    "communities_gmc = [list(c) for c in communities_gmc]\n",
    "communities_gmc_dict = {}\n",
    "\n",
    "c_idx = 0\n",
    "for c in communities_gmc:\n",
    "    for node in c:\n",
    "        communities_gmc_dict[node] = c_idx\n",
    "    c_idx += 1"
   ]
  },
  {
   "cell_type": "code",
   "execution_count": 8,
   "metadata": {},
   "outputs": [],
   "source": [
    "# node2vec\n",
    "idx_list = []\n",
    "communities_dict = {}\n",
    "data = []\n",
    "with open(EMBEDDING_FILENAME) as f:\n",
    "    csv_reader = csv.reader(f, delimiter=' ')\n",
    "    next(csv_reader)\n",
    "    for row in csv_reader:\n",
    "        idx_list.append(row[0])\n",
    "        community = communities_gmc_dict[row[0]]\n",
    "        communities_dict[int(row[0])] = community\n",
    "        data.append((row[0],community,float(row[1]),float(row[2])))"
   ]
  },
  {
   "cell_type": "code",
   "execution_count": 9,
   "metadata": {},
   "outputs": [],
   "source": [
    "# UMAP\n",
    "node_vectors_loaded = KeyedVectors.load_word2vec_format(EMBEDDING_FILENAME)\n",
    "wv = node_vectors_loaded.vectors\n",
    "umap_obj = umap.UMAP(n_neighbors=15, min_dist=0.5, n_components=2, metric='correlation')\n",
    "transformed = umap_obj.fit_transform(wv) # as per https://umap-learn.readthedocs.io/en/latest/basic_usage.html it preserves original ordering\n",
    "np.savetxt(UMAP_FILENAME, transformed, delimiter=' ')"
   ]
  },
  {
   "cell_type": "code",
   "execution_count": 10,
   "metadata": {},
   "outputs": [],
   "source": [
    "# UMAP\n",
    "data_umap = []\n",
    "with open(UMAP_FILENAME) as f:\n",
    "    csv_reader = csv.reader(f, delimiter=' ')\n",
    "    i = 0\n",
    "    for row in csv_reader:\n",
    "        data_umap.append((idx_list[i],nodes_titles[int(idx_list[i])],communities_dict[int(idx_list[i])],row[0],row[1]))\n",
    "        i += 1"
   ]
  },
  {
   "cell_type": "code",
   "execution_count": 11,
   "metadata": {},
   "outputs": [],
   "source": [
    "df = pd.DataFrame(data_umap, columns = ['id', 'name', 'community', 'x', 'y']) \n",
    "x_data = round(df['x'].astype(float),3)\n",
    "y_data = round(df['y'].astype(float),3)"
   ]
  },
  {
   "cell_type": "code",
   "execution_count": 12,
   "metadata": {},
   "outputs": [],
   "source": [
    "time_label = Label(x=[0.75], y=[0.10], default_size=46, font_weight='bolder', colors=['orange'],\n",
    "                   text=[str(0)], enable_move=True)"
   ]
  },
  {
   "cell_type": "code",
   "execution_count": 13,
   "metadata": {},
   "outputs": [],
   "source": [
    "x_sc = LinearScale(min=0, max=1)\n",
    "y_sc = LinearScale(min=0, max=1)\n",
    "c_sc = OrdinalColorScale(domain=df['community'].unique().tolist(), colors=CATEGORY10)"
   ]
  },
  {
   "cell_type": "code",
   "execution_count": 14,
   "metadata": {},
   "outputs": [],
   "source": [
    "ax_y = Axis(label='y', scale=y_sc, orientation='vertical', grid_lines='solid')\n",
    "ax_x = Axis(label='x', scale=x_sc, orientation='horizontal', grid_lines='solid')"
   ]
  },
  {
   "cell_type": "code",
   "execution_count": 15,
   "metadata": {},
   "outputs": [],
   "source": [
    "tt = Tooltip(fields=['name', 'x', 'y'], labels=['name', 'x', 'y'])"
   ]
  },
  {
   "cell_type": "code",
   "execution_count": 16,
   "metadata": {},
   "outputs": [],
   "source": [
    "scat = Scatter(x=x_data, y=y_data, color=df['community'],\n",
    "          names=df['name'], display_names=False,\n",
    "          scales={'x': x_sc, 'y': y_sc, 'color': c_sc},\n",
    "          default_size=500, tooltip=tt,\n",
    "          unhovered_style={'opacity': 0.5}, animate=True)"
   ]
  },
  {
   "cell_type": "code",
   "execution_count": 17,
   "metadata": {},
   "outputs": [],
   "source": [
    "fig = Figure(marks=[scat, time_label], axes=[ax_x, ax_y], title='Graph')"
   ]
  },
  {
   "cell_type": "code",
   "execution_count": 18,
   "metadata": {},
   "outputs": [],
   "source": [
    "time_slider = IntSlider(min=min_year, max=max_year, step=1, description='Time', value=0)"
   ]
  },
  {
   "cell_type": "code",
   "execution_count": 19,
   "metadata": {},
   "outputs": [],
   "source": [
    "time_interval = 1"
   ]
  },
  {
   "cell_type": "code",
   "execution_count": 20,
   "metadata": {},
   "outputs": [],
   "source": [
    "def edge_or_reverse_matches_time(e,attrs,year):\n",
    "    if e in attrs:\n",
    "        if int(attrs[e]['year']) <= int(year):\n",
    "            return True\n",
    "        else:\n",
    "            return False\n",
    "    if (e[1],e[0] in attrs):\n",
    "        if int(attrs[(e[1],e[0])]['year']) <= int(year):\n",
    "            return True\n",
    "        else:\n",
    "            return False"
   ]
  },
  {
   "cell_type": "code",
   "execution_count": 21,
   "metadata": {},
   "outputs": [],
   "source": [
    "def generate_filtered_UMAP_embeddings(years):\n",
    "    data_dict = {}\n",
    "    \n",
    "    for year in years:\n",
    "        filtered_edges = [e for e in G.edges() if edge_or_reverse_matches_time(e,attrs,year)]\n",
    "        \n",
    "        if len(filtered_edges)<=1:\n",
    "            data_dict[year]=(None,None,None,None,None)\n",
    "        else:\n",
    "            G_filtered = G.__class__()\n",
    "            G_filtered.add_edges_from(filtered_edges)\n",
    "\n",
    "            # node2vec\n",
    "            node2vec = Node2Vec(G_filtered, dimensions=32, walk_length=10, num_walks=100, workers=4)  # Use temp_folder for big graphs\n",
    "            model = node2vec.fit(window=10, min_count=1, batch_words=4)  # Any keywords acceptable by gensim.Word2Vec can be passed, `diemnsions` and `workers` are automatically passed (from the Node2Vec constructor)\n",
    "            edges_embs = HadamardEmbedder(keyed_vectors=model.wv)\n",
    "            model.wv.save_word2vec_format(EMBEDDING_FILENAME)                    \n",
    "\n",
    "            # UMAP\n",
    "            node_vectors_loaded = KeyedVectors.load_word2vec_format(EMBEDDING_FILENAME)\n",
    "            wv = node_vectors_loaded.vectors\n",
    "            umap_obj = umap.UMAP(n_neighbors=15, min_dist=0.5, n_components=2, metric='correlation')\n",
    "            transformed = umap_obj.fit_transform(wv) # as per https://umap-learn.readthedocs.io/en/latest/basic_usage.html it preserves original ordering\n",
    "            np.savetxt(UMAP_FILENAME, transformed, delimiter=' ')\n",
    "\n",
    "            order = []\n",
    "            with open(EMBEDDING_FILENAME) as f:\n",
    "                csv_reader = csv.reader(f, delimiter=' ')\n",
    "                next(csv_reader)\n",
    "                for row in csv_reader:\n",
    "                    order.append(int(row[0]))\n",
    "\n",
    "            # UMAP\n",
    "            data_umap = []\n",
    "            with open(UMAP_FILENAME) as f:\n",
    "                csv_reader = csv.reader(f, delimiter=' ')\n",
    "                i = 0\n",
    "                for row in csv_reader:\n",
    "                    idx = order[i]\n",
    "                    data_umap.append((idx,nodes_titles[idx],communities_dict[idx],row[0],row[1]))\n",
    "                    i += 1\n",
    "\n",
    "            df = pd.DataFrame(data_umap, columns = ['id', 'name', 'community', 'x', 'y']) \n",
    "\n",
    "            names = df['name']\n",
    "            x_data = round(df['x'].astype(float),3)\n",
    "            y_data = round(df['y'].astype(float),3)\n",
    "            colors = df['community']\n",
    "\n",
    "            data_dict[year] = (names,colors,x_data,y_data)\n",
    "    \n",
    "    return data_dict\n"
   ]
  },
  {
   "cell_type": "code",
   "execution_count": 22,
   "metadata": {},
   "outputs": [],
   "source": [
    "years = [y+min_year for y in list(range(max_year-min_year+1))]"
   ]
  },
  {
   "cell_type": "code",
   "execution_count": 23,
   "metadata": {},
   "outputs": [
    {
     "name": "stderr",
     "output_type": "stream",
     "text": [
      "Computing transition probabilities: 100%|██████████| 5/5 [00:00<00:00, 3872.86it/s]\n",
      "/Users/anna/anaconda3/envs/hack/lib/python3.6/site-packages/umap/umap_.py:1364: UserWarning: n_neighbors is larger than the dataset size; truncating to X.shape[0] - 1\n",
      "  \"n_neighbors is larger than the dataset size; truncating to \"\n",
      "Computing transition probabilities: 100%|██████████| 5/5 [00:00<00:00, 14915.73it/s]\n",
      "/Users/anna/anaconda3/envs/hack/lib/python3.6/site-packages/umap/umap_.py:1364: UserWarning: n_neighbors is larger than the dataset size; truncating to X.shape[0] - 1\n",
      "  \"n_neighbors is larger than the dataset size; truncating to \"\n",
      "Computing transition probabilities: 100%|██████████| 5/5 [00:00<00:00, 14614.30it/s]\n",
      "/Users/anna/anaconda3/envs/hack/lib/python3.6/site-packages/umap/umap_.py:1364: UserWarning: n_neighbors is larger than the dataset size; truncating to X.shape[0] - 1\n",
      "  \"n_neighbors is larger than the dataset size; truncating to \"\n",
      "Computing transition probabilities: 100%|██████████| 16/16 [00:00<00:00, 15283.28it/s]\n",
      "Computing transition probabilities: 100%|██████████| 21/21 [00:00<00:00, 12529.22it/s]\n",
      "Computing transition probabilities: 100%|██████████| 30/30 [00:00<00:00, 15673.78it/s]\n",
      "Computing transition probabilities: 100%|██████████| 33/33 [00:00<00:00, 11113.86it/s]\n",
      "Computing transition probabilities: 100%|██████████| 36/36 [00:00<00:00, 13413.43it/s]\n",
      "Computing transition probabilities: 100%|██████████| 40/40 [00:00<00:00, 18224.22it/s]\n",
      "Computing transition probabilities: 100%|██████████| 43/43 [00:00<00:00, 15676.23it/s]\n",
      "Computing transition probabilities: 100%|██████████| 47/47 [00:00<00:00, 13321.55it/s]\n",
      "Computing transition probabilities: 100%|██████████| 50/50 [00:00<00:00, 11621.79it/s]\n",
      "Computing transition probabilities: 100%|██████████| 52/52 [00:00<00:00, 11059.47it/s]\n",
      "Computing transition probabilities: 100%|██████████| 58/58 [00:00<00:00, 603.28it/s]\n",
      "Computing transition probabilities: 100%|██████████| 64/64 [00:00<00:00, 14495.92it/s]\n",
      "Computing transition probabilities: 100%|██████████| 80/80 [00:00<00:00, 15501.45it/s]\n",
      "Computing transition probabilities: 100%|██████████| 85/85 [00:00<00:00, 17543.34it/s]\n",
      "Computing transition probabilities: 100%|██████████| 91/91 [00:00<00:00, 14458.19it/s]\n",
      "Computing transition probabilities: 100%|██████████| 96/96 [00:00<00:00, 16382.00it/s]\n",
      "Computing transition probabilities: 100%|██████████| 101/101 [00:00<00:00, 11544.17it/s]\n",
      "Computing transition probabilities: 100%|██████████| 103/103 [00:00<00:00, 17682.27it/s]\n",
      "Computing transition probabilities: 100%|██████████| 110/110 [00:00<00:00, 9367.42it/s]\n",
      "Computing transition probabilities: 100%|██████████| 114/114 [00:00<00:00, 16104.23it/s]\n"
     ]
    }
   ],
   "source": [
    "data_dict = generate_filtered_UMAP_embeddings(years)"
   ]
  },
  {
   "cell_type": "code",
   "execution_count": 24,
   "metadata": {},
   "outputs": [],
   "source": [
    "scaler = MinMaxScaler()\n",
    "    \n",
    "def get_data(time):\n",
    "    names = data_dict[time][0]\n",
    "    colors = data_dict[time][1]\n",
    "    result_x = data_dict[time][2]\n",
    "    result_y = data_dict[time][3]\n",
    "    \n",
    "    if result_x is not None:\n",
    "        result_x = (result_x - result_x.min()) / (result_x.max() - result_x.min())\n",
    "    if result_y is not None:\n",
    "        result_y = (result_y - result_y.min()) / (result_y.max() - result_y.min())\n",
    "\n",
    "    return names, colors, result_x, result_y"
   ]
  },
  {
   "cell_type": "code",
   "execution_count": 25,
   "metadata": {},
   "outputs": [],
   "source": [
    "def time_changed(change):\n",
    "    scat.names, scat.color, scat.x, scat.y = get_data(time_slider.value)\n",
    "    time_label.text = [str(time_slider.value)]\n",
    "\n",
    "time_slider.observe(time_changed, 'value')"
   ]
  },
  {
   "cell_type": "code",
   "execution_count": 26,
   "metadata": {},
   "outputs": [],
   "source": [
    "play_button = Play(min=min_year, max=max_year, interval=time_interval)\n",
    "jslink((play_button, 'value'), (time_slider, 'value'))"
   ]
  },
  {
   "cell_type": "code",
   "execution_count": 27,
   "metadata": {},
   "outputs": [
    {
     "data": {
      "application/vnd.jupyter.widget-view+json": {
       "model_id": "2a89d601549b486fa8760c7f31de2638",
       "version_major": 2,
       "version_minor": 0
      },
      "text/plain": [
       "VBox(children=(HBox(children=(Play(value=1985, interval=1, max=2009, min=1985), IntSlider(value=1985, descript…"
      ]
     },
     "metadata": {},
     "output_type": "display_data"
    }
   ],
   "source": [
    "VBox([HBox([play_button, time_slider]), fig])"
   ]
  },
  {
   "cell_type": "code",
   "execution_count": 28,
   "metadata": {},
   "outputs": [],
   "source": [
    "embed_minimal_html('export.html', views=[VBox([fig])], title='Widgets export')"
   ]
  },
  {
   "cell_type": "code",
   "execution_count": null,
   "metadata": {},
   "outputs": [],
   "source": []
  },
  {
   "cell_type": "code",
   "execution_count": 29,
   "metadata": {},
   "outputs": [],
   "source": [
    "def interactive_umap(n_neighbors, min_dist, n_components):\n",
    "    umap_obj = umap.UMAP(n_neighbors=n_neighbors, min_dist=min_dist, n_components=n_components)\n",
    "    transformed = umap_obj.fit_transform(wv)\n",
    "    plt.figure(figsize=(7.5,7.5))\n",
    "    seaborn.regplot(x=transformed[:, 0], y=transformed[:, 1], fit_reg=False)    \n",
    "    \n",
    "    plt.show()"
   ]
  },
  {
   "cell_type": "code",
   "execution_count": 30,
   "metadata": {},
   "outputs": [
    {
     "data": {
      "application/vnd.jupyter.widget-view+json": {
       "model_id": "db09431f1ac048c382507ee87731914d",
       "version_major": 2,
       "version_minor": 0
      },
      "text/plain": [
       "interactive(children=(IntSlider(value=15, description='n_neighbors', max=45, min=-15), FloatSlider(value=0.5, …"
      ]
     },
     "metadata": {},
     "output_type": "display_data"
    }
   ],
   "source": [
    "interactive(interactive_umap, n_neighbors=15, min_dist=0.5, n_components=2, metric='correlation')"
   ]
  },
  {
   "cell_type": "code",
   "execution_count": null,
   "metadata": {},
   "outputs": [],
   "source": []
  }
 ],
 "metadata": {
  "kernelspec": {
   "display_name": "Python 3",
   "language": "python",
   "name": "python3"
  },
  "language_info": {
   "codemirror_mode": {
    "name": "ipython",
    "version": 3
   },
   "file_extension": ".py",
   "mimetype": "text/x-python",
   "name": "python",
   "nbconvert_exporter": "python",
   "pygments_lexer": "ipython3",
   "version": "3.6.8"
  }
 },
 "nbformat": 4,
 "nbformat_minor": 2
}
