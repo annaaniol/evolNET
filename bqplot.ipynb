{
 "cells": [
  {
   "cell_type": "code",
   "execution_count": 165,
   "metadata": {},
   "outputs": [],
   "source": [
    "import pandas as pd\n",
    "import numpy as np\n",
    "import os\n",
    "import csv\n",
    "import networkx as nx\n",
    "from networkx.algorithms import community\n",
    "\n",
    "from node2vec import Node2Vec\n",
    "from node2vec.edges import HadamardEmbedder\n",
    "import umap\n",
    "from bqplot import (\n",
    "    LogScale, LinearScale, OrdinalColorScale, ColorAxis,\n",
    "    Axis, Scatter, Lines, CATEGORY10, Label, Figure, Tooltip\n",
    ")\n",
    "from ipywidgets import HBox, VBox, IntSlider, Play, jslink\n",
    "from ipywidgets.embed import embed_minimal_html\n",
    "from ipywidgets import interact, interactive, fixed, interact_manual\n",
    "import matplotlib.pyplot as plt\n",
    "import seaborn\n",
    "from gensim.models import KeyedVectors"
   ]
  },
  {
   "cell_type": "code",
   "execution_count": 166,
   "metadata": {},
   "outputs": [],
   "source": [
    "DATA_FILENAME = 'data.csv'\n",
    "EMBEDDING_FILENAME = 'embedding.csv'\n",
    "UMAP_FILENAME = 'embedding_umap.csv'"
   ]
  },
  {
   "cell_type": "code",
   "execution_count": 167,
   "metadata": {},
   "outputs": [],
   "source": [
    "G = nx.Graph()\n",
    "attrs = {}\n",
    "\n",
    "with open(DATA_FILENAME) as f:\n",
    "    csv_reader = csv.reader(f, delimiter=' ')\n",
    "    for row in csv_reader:\n",
    "        G.add_edge(row[0],row[1])\n",
    "        attrs[(row[0],row[1])] = {'year': 2007}\n",
    "        \n",
    "nx.set_edge_attributes(G, attrs)"
   ]
  },
  {
   "cell_type": "code",
   "execution_count": 168,
   "metadata": {},
   "outputs": [
    {
     "name": "stderr",
     "output_type": "stream",
     "text": [
      "Computing transition probabilities: 100%|██████████| 62/62 [00:00<00:00, 3998.44it/s]\n"
     ]
    }
   ],
   "source": [
    "# node2vec\n",
    "node2vec = Node2Vec(G, dimensions=32, walk_length=10, num_walks=100, workers=4)  # Use temp_folder for big graphs\n",
    "model = node2vec.fit(window=10, min_count=1, batch_words=4)  # Any keywords acceptable by gensim.Word2Vec can be passed, `diemnsions` and `workers` are automatically passed (from the Node2Vec constructor)\n",
    "edges_embs = HadamardEmbedder(keyed_vectors=model.wv)\n",
    "model.wv.save_word2vec_format(EMBEDDING_FILENAME)"
   ]
  },
  {
   "cell_type": "code",
   "execution_count": 169,
   "metadata": {},
   "outputs": [],
   "source": [
    "from networkx.algorithms.community.centrality import girvan_newman\n",
    "\n",
    "communities_iter = girvan_newman(G)\n",
    "communities_gn = []\n",
    "\n",
    "for community_gn in next(communities_iter):\n",
    "    communities_gn.append(community_gn)"
   ]
  },
  {
   "cell_type": "code",
   "execution_count": 170,
   "metadata": {},
   "outputs": [],
   "source": [
    "from networkx.algorithms.community.modularity_max import greedy_modularity_communities\n",
    "\n",
    "communities_gmc = greedy_modularity_communities(G)\n",
    "\n",
    "communities_gmc = [list(c) for c in communities_gmc]\n",
    "communities_gmc_dict = {}\n",
    "\n",
    "c_idx = 0\n",
    "for c in communities_gmc:\n",
    "    for node in c:\n",
    "        communities_gmc_dict[node] = c_idx\n",
    "    c_idx += 1"
   ]
  },
  {
   "cell_type": "code",
   "execution_count": 171,
   "metadata": {},
   "outputs": [],
   "source": [
    "# UMAP\n",
    "node_vectors_loaded = KeyedVectors.load_word2vec_format(EMBEDDING_FILENAME)\n",
    "wv = node_vectors_loaded.vectors\n",
    "umap_obj = umap.UMAP(n_neighbors=15, min_dist=0.5, n_components=2, metric='correlation')\n",
    "transformed = umap_obj.fit_transform(wv) # as per https://umap-learn.readthedocs.io/en/latest/basic_usage.html it preserves original ordering\n",
    "np.savetxt(UMAP_FILENAME, transformed, delimiter=' ')"
   ]
  },
  {
   "cell_type": "code",
   "execution_count": 172,
   "metadata": {},
   "outputs": [],
   "source": [
    "# node2vec\n",
    "idx_list = []\n",
    "communities_idx = []\n",
    "data = []\n",
    "with open(EMBEDDING_FILENAME) as f:\n",
    "    csv_reader = csv.reader(f, delimiter=' ')\n",
    "    next(csv_reader)\n",
    "    for row in csv_reader:\n",
    "        idx_list.append(row[0])\n",
    "        community = communities_gmc_dict[row[0]]\n",
    "        communities_idx.append(community)\n",
    "        data.append((row[0],0,float(row[1]),float(row[2])))"
   ]
  },
  {
   "cell_type": "code",
   "execution_count": 173,
   "metadata": {},
   "outputs": [],
   "source": [
    "# UMAP\n",
    "data_umap = []\n",
    "with open(UMAP_FILENAME) as f:\n",
    "    csv_reader = csv.reader(f, delimiter=' ')\n",
    "    idx = 0\n",
    "    for row in csv_reader:\n",
    "        data_umap.append((idx_list[idx],communities_idx[idx],row[0],row[1]))\n",
    "        idx += 1"
   ]
  },
  {
   "cell_type": "code",
   "execution_count": 174,
   "metadata": {},
   "outputs": [],
   "source": [
    "df = pd.DataFrame(data_umap, columns = ['name', 'community', 'x', 'y']) \n",
    "x_data = round(df['x'].astype(float),3)\n",
    "y_data = round(df['y'].astype(float),3)"
   ]
  },
  {
   "cell_type": "code",
   "execution_count": 175,
   "metadata": {},
   "outputs": [],
   "source": [
    "# df['community']"
   ]
  },
  {
   "cell_type": "code",
   "execution_count": 176,
   "metadata": {},
   "outputs": [],
   "source": [
    "x_min, x_max = float(np.min(x_data.apply(np.min))), float(np.max(x_data.apply(np.max)))\n",
    "y_min, y_max = float(np.min(y_data.apply(np.min))), float(np.max(y_data.apply(np.max)))"
   ]
  },
  {
   "cell_type": "code",
   "execution_count": 177,
   "metadata": {},
   "outputs": [],
   "source": [
    "x_sc = LinearScale(min=x_min, max=x_max)\n",
    "y_sc = LinearScale(min=y_min, max=y_max)\n",
    "c_sc = OrdinalColorScale(domain=df['community'].unique().tolist(), colors=CATEGORY10)"
   ]
  },
  {
   "cell_type": "code",
   "execution_count": 178,
   "metadata": {},
   "outputs": [],
   "source": [
    "color_dict = {}\n",
    "for domain in c_sc.domain:\n",
    "    color_dict[domain] = c_sc.colors[domain]\n",
    "\n",
    "color_list = []\n",
    "for idx in range(len(x_data)):\n",
    "    color_list.append(color_dict[communities_idx[idx]])\n",
    "    \n",
    "color_list[:3]\n",
    "\n",
    "color_df = pd.DataFrame(color_list, columns = ['color']) "
   ]
  },
  {
   "cell_type": "code",
   "execution_count": 179,
   "metadata": {},
   "outputs": [],
   "source": [
    "ax_y = Axis(label='y', scale=y_sc, orientation='vertical', grid_lines='solid')\n",
    "ax_x = Axis(label='x', scale=x_sc, orientation='horizontal', grid_lines='solid')"
   ]
  },
  {
   "cell_type": "code",
   "execution_count": 180,
   "metadata": {},
   "outputs": [],
   "source": [
    "tt = Tooltip(fields=['name', 'x', 'y'], labels=['name', 'x', 'y'])"
   ]
  },
  {
   "cell_type": "code",
   "execution_count": 181,
   "metadata": {},
   "outputs": [],
   "source": [
    "scat = Scatter(x=x_data, y=y_data, color=df['community'],\n",
    "          names=df['name'], display_names=False,\n",
    "          scales={'x': x_sc, 'y': y_sc, 'color': c_sc},\n",
    "          default_size=500, tooltip=tt,\n",
    "          unhovered_style={'opacity': 0.5})"
   ]
  },
  {
   "cell_type": "code",
   "execution_count": 182,
   "metadata": {},
   "outputs": [],
   "source": [
    "time_interval = 10"
   ]
  },
  {
   "cell_type": "code",
   "execution_count": 183,
   "metadata": {},
   "outputs": [],
   "source": [
    "fig = Figure(marks=[scat], axes=[ax_x, ax_y], title='Graph')"
   ]
  },
  {
   "cell_type": "code",
   "execution_count": 184,
   "metadata": {
    "scrolled": true
   },
   "outputs": [
    {
     "data": {
      "application/vnd.jupyter.widget-view+json": {
       "model_id": "52981403c11b4851abe2179f861e5b57",
       "version_major": 2,
       "version_minor": 0
      },
      "text/plain": [
       "VBox(children=(Figure(axes=[Axis(label='x', scale=LinearScale(max=5.958, min=-3.23)), Axis(label='y', orientat…"
      ]
     },
     "metadata": {},
     "output_type": "display_data"
    }
   ],
   "source": [
    "VBox([fig])"
   ]
  },
  {
   "cell_type": "code",
   "execution_count": 185,
   "metadata": {},
   "outputs": [],
   "source": [
    "embed_minimal_html('export.html', views=[VBox([fig])], title='Widgets export')"
   ]
  },
  {
   "cell_type": "code",
   "execution_count": null,
   "metadata": {},
   "outputs": [],
   "source": []
  },
  {
   "cell_type": "code",
   "execution_count": 64,
   "metadata": {},
   "outputs": [],
   "source": [
    "def interactive_umap(n_neighbors, min_dist, n_components):\n",
    "    umap_obj = umap.UMAP(n_neighbors=n_neighbors, min_dist=min_dist, n_components=n_components)\n",
    "    transformed = umap_obj.fit_transform(wv)\n",
    "    plt.figure(figsize=(7.5,7.5))\n",
    "    seaborn.regplot(x=transformed[:, 0], y=transformed[:, 1], fit_reg=False)    \n",
    "    \n",
    "    plt.show()"
   ]
  },
  {
   "cell_type": "code",
   "execution_count": 65,
   "metadata": {},
   "outputs": [
    {
     "data": {
      "application/vnd.jupyter.widget-view+json": {
       "model_id": "6526a54e4b34434fbf6c6a7b447cb493",
       "version_major": 2,
       "version_minor": 0
      },
      "text/plain": [
       "interactive(children=(IntSlider(value=15, description='n_neighbors', max=45, min=-15), FloatSlider(value=0.5, …"
      ]
     },
     "metadata": {},
     "output_type": "display_data"
    }
   ],
   "source": [
    "interactive(interactive_umap, n_neighbors=15, min_dist=0.5, n_components=2, metric='correlation')"
   ]
  },
  {
   "cell_type": "code",
   "execution_count": null,
   "metadata": {},
   "outputs": [],
   "source": []
  }
 ],
 "metadata": {
  "kernelspec": {
   "display_name": "Python 3",
   "language": "python",
   "name": "python3"
  },
  "language_info": {
   "codemirror_mode": {
    "name": "ipython",
    "version": 3
   },
   "file_extension": ".py",
   "mimetype": "text/x-python",
   "name": "python",
   "nbconvert_exporter": "python",
   "pygments_lexer": "ipython3",
   "version": "3.6.8"
  }
 },
 "nbformat": 4,
 "nbformat_minor": 2
}
